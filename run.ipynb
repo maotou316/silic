{
  "cells": [
    {
      "cell_type": "code",
      "execution_count": 2,
      "metadata": {},
      "outputs": [
        {
          "name": "stdout",
          "output_type": "stream",
          "text": [
            "Python 3.10.11\n",
            "Requirement already satisfied: pip in c:\\users\\maoto\\appdata\\local\\programs\\python\\python310\\lib\\site-packages (24.1)\n"
          ]
        }
      ],
      "source": [
        "!python --version\n",
        "!python -m pip install --upgrade pip\n"
      ]
    },
    {
      "cell_type": "code",
      "execution_count": 3,
      "metadata": {
        "id": "7jtLyvRXlrmz"
      },
      "outputs": [
        {
          "name": "stdout",
          "output_type": "stream",
          "text": [
            "Requirement already satisfied: absl-py==1.4.0 in c:\\users\\maoto\\appdata\\local\\programs\\python\\python310\\lib\\site-packages (from -r requirements.txt (line 1)) (1.4.0)\n",
            "Requirement already satisfied: asttokens==2.2.1 in c:\\users\\maoto\\appdata\\local\\programs\\python\\python310\\lib\\site-packages (from -r requirements.txt (line 2)) (2.2.1)\n",
            "Requirement already satisfied: backcall==0.2.0 in c:\\users\\maoto\\appdata\\local\\programs\\python\\python310\\lib\\site-packages (from -r requirements.txt (line 3)) (0.2.0)\n",
            "Requirement already satisfied: boto3==1.26.111 in c:\\users\\maoto\\appdata\\local\\programs\\python\\python310\\lib\\site-packages (from -r requirements.txt (line 4)) (1.26.111)\n",
            "Requirement already satisfied: botocore==1.29.111 in c:\\users\\maoto\\appdata\\local\\programs\\python\\python310\\lib\\site-packages (from -r requirements.txt (line 5)) (1.29.111)\n",
            "Requirement already satisfied: cachetools==5.3.0 in c:\\users\\maoto\\appdata\\local\\programs\\python\\python310\\lib\\site-packages (from -r requirements.txt (line 6)) (5.3.0)\n",
            "Requirement already satisfied: certifi==2022.12.7 in c:\\users\\maoto\\appdata\\local\\programs\\python\\python310\\lib\\site-packages (from -r requirements.txt (line 7)) (2022.12.7)\n",
            "Requirement already satisfied: chardet==4.0.0 in c:\\users\\maoto\\appdata\\local\\programs\\python\\python310\\lib\\site-packages (from -r requirements.txt (line 8)) (4.0.0)\n",
            "Requirement already satisfied: charset-normalizer==3.1.0 in c:\\users\\maoto\\appdata\\local\\programs\\python\\python310\\lib\\site-packages (from -r requirements.txt (line 9)) (3.1.0)\n",
            "Requirement already satisfied: click==8.0.4 in c:\\users\\maoto\\appdata\\local\\programs\\python\\python310\\lib\\site-packages (from -r requirements.txt (line 10)) (8.0.4)\n",
            "Requirement already satisfied: colorama==0.4.6 in c:\\users\\maoto\\appdata\\local\\programs\\python\\python310\\lib\\site-packages (from -r requirements.txt (line 11)) (0.4.6)\n",
            "Requirement already satisfied: contourpy==1.0.7 in c:\\users\\maoto\\appdata\\local\\programs\\python\\python310\\lib\\site-packages (from -r requirements.txt (line 12)) (1.0.7)\n",
            "Requirement already satisfied: cycler==0.10.0 in c:\\users\\maoto\\appdata\\local\\programs\\python\\python310\\lib\\site-packages (from -r requirements.txt (line 13)) (0.10.0)\n",
            "Requirement already satisfied: decorator==5.1.1 in c:\\users\\maoto\\appdata\\local\\programs\\python\\python310\\lib\\site-packages (from -r requirements.txt (line 14)) (5.1.1)\n",
            "Requirement already satisfied: executing==1.2.0 in c:\\users\\maoto\\appdata\\local\\programs\\python\\python310\\lib\\site-packages (from -r requirements.txt (line 15)) (1.2.0)\n",
            "Requirement already satisfied: filelock==3.11.0 in c:\\users\\maoto\\appdata\\local\\programs\\python\\python310\\lib\\site-packages (from -r requirements.txt (line 16)) (3.11.0)\n",
            "Requirement already satisfied: fire==0.5.0 in c:\\users\\maoto\\appdata\\local\\programs\\python\\python310\\lib\\site-packages (from -r requirements.txt (line 17)) (0.5.0)\n",
            "Requirement already satisfied: fonttools==4.39.3 in c:\\users\\maoto\\appdata\\local\\programs\\python\\python310\\lib\\site-packages (from -r requirements.txt (line 18)) (4.39.3)\n",
            "Requirement already satisfied: gitdb==4.0.10 in c:\\users\\maoto\\appdata\\local\\programs\\python\\python310\\lib\\site-packages (from -r requirements.txt (line 19)) (4.0.10)\n",
            "Requirement already satisfied: GitPython==3.1.31 in c:\\users\\maoto\\appdata\\local\\programs\\python\\python310\\lib\\site-packages (from -r requirements.txt (line 20)) (3.1.31)\n",
            "Requirement already satisfied: google-auth==2.17.2 in c:\\users\\maoto\\appdata\\local\\programs\\python\\python310\\lib\\site-packages (from -r requirements.txt (line 21)) (2.17.2)\n",
            "Requirement already satisfied: google-auth-oauthlib==1.0.0 in c:\\users\\maoto\\appdata\\local\\programs\\python\\python310\\lib\\site-packages (from -r requirements.txt (line 22)) (1.0.0)\n",
            "Requirement already satisfied: grpcio==1.53.0 in c:\\users\\maoto\\appdata\\local\\programs\\python\\python310\\lib\\site-packages (from -r requirements.txt (line 23)) (1.53.0)\n",
            "Requirement already satisfied: huggingface-hub==0.13.4 in c:\\users\\maoto\\appdata\\local\\programs\\python\\python310\\lib\\site-packages (from -r requirements.txt (line 24)) (0.13.4)\n",
            "Requirement already satisfied: idna==2.10 in c:\\users\\maoto\\appdata\\local\\programs\\python\\python310\\lib\\site-packages (from -r requirements.txt (line 25)) (2.10)\n",
            "Requirement already satisfied: ipython==8.12.0 in c:\\users\\maoto\\appdata\\local\\programs\\python\\python310\\lib\\site-packages (from -r requirements.txt (line 26)) (8.12.0)\n",
            "Requirement already satisfied: jedi==0.18.2 in c:\\users\\maoto\\appdata\\local\\programs\\python\\python310\\lib\\site-packages (from -r requirements.txt (line 27)) (0.18.2)\n",
            "Requirement already satisfied: Jinja2==3.1.2 in c:\\users\\maoto\\appdata\\local\\programs\\python\\python310\\lib\\site-packages (from -r requirements.txt (line 28)) (3.1.2)\n",
            "Requirement already satisfied: jmespath==1.0.1 in c:\\users\\maoto\\appdata\\local\\programs\\python\\python310\\lib\\site-packages (from -r requirements.txt (line 29)) (1.0.1)\n",
            "Requirement already satisfied: kiwisolver==1.4.4 in c:\\users\\maoto\\appdata\\local\\programs\\python\\python310\\lib\\site-packages (from -r requirements.txt (line 30)) (1.4.4)\n",
            "Requirement already satisfied: Markdown==3.4.3 in c:\\users\\maoto\\appdata\\local\\programs\\python\\python310\\lib\\site-packages (from -r requirements.txt (line 31)) (3.4.3)\n",
            "Requirement already satisfied: MarkupSafe==2.1.2 in c:\\users\\maoto\\appdata\\local\\programs\\python\\python310\\lib\\site-packages (from -r requirements.txt (line 32)) (2.1.2)\n",
            "Requirement already satisfied: matplotlib==3.7.1 in c:\\users\\maoto\\appdata\\local\\programs\\python\\python310\\lib\\site-packages (from -r requirements.txt (line 33)) (3.7.1)\n",
            "Requirement already satisfied: matplotlib-inline==0.1.6 in c:\\users\\maoto\\appdata\\local\\programs\\python\\python310\\lib\\site-packages (from -r requirements.txt (line 34)) (0.1.6)\n",
            "Requirement already satisfied: mpmath==1.3.0 in c:\\users\\maoto\\appdata\\local\\programs\\python\\python310\\lib\\site-packages (from -r requirements.txt (line 35)) (1.3.0)\n",
            "Requirement already satisfied: networkx==3.1 in c:\\users\\maoto\\appdata\\local\\programs\\python\\python310\\lib\\site-packages (from -r requirements.txt (line 36)) (3.1)\n",
            "Requirement already satisfied: nnAudio==0.3.2 in c:\\users\\maoto\\appdata\\local\\programs\\python\\python310\\lib\\site-packages (from -r requirements.txt (line 37)) (0.3.2)\n",
            "Requirement already satisfied: numpy==1.24.2 in c:\\users\\maoto\\appdata\\local\\programs\\python\\python310\\lib\\site-packages (from -r requirements.txt (line 38)) (1.24.2)\n",
            "Requirement already satisfied: oauthlib==3.2.2 in c:\\users\\maoto\\appdata\\local\\programs\\python\\python310\\lib\\site-packages (from -r requirements.txt (line 39)) (3.2.2)\n",
            "Requirement already satisfied: opencv-python==4.7.0.72 in c:\\users\\maoto\\appdata\\local\\programs\\python\\python310\\lib\\site-packages (from -r requirements.txt (line 40)) (4.7.0.72)\n",
            "Requirement already satisfied: packaging==23.0 in c:\\users\\maoto\\appdata\\local\\programs\\python\\python310\\lib\\site-packages (from -r requirements.txt (line 41)) (23.0)\n",
            "Requirement already satisfied: pandas==2.0.0 in c:\\users\\maoto\\appdata\\local\\programs\\python\\python310\\lib\\site-packages (from -r requirements.txt (line 42)) (2.0.0)\n",
            "Requirement already satisfied: parso==0.8.3 in c:\\users\\maoto\\appdata\\local\\programs\\python\\python310\\lib\\site-packages (from -r requirements.txt (line 43)) (0.8.3)\n",
            "Requirement already satisfied: pickleshare==0.7.5 in c:\\users\\maoto\\appdata\\local\\programs\\python\\python310\\lib\\site-packages (from -r requirements.txt (line 44)) (0.7.5)\n",
            "Requirement already satisfied: Pillow==9.5.0 in c:\\users\\maoto\\appdata\\local\\programs\\python\\python310\\lib\\site-packages (from -r requirements.txt (line 45)) (9.5.0)\n",
            "Requirement already satisfied: prompt-toolkit==3.0.38 in c:\\users\\maoto\\appdata\\local\\programs\\python\\python310\\lib\\site-packages (from -r requirements.txt (line 46)) (3.0.38)\n",
            "Requirement already satisfied: protobuf==4.22.1 in c:\\users\\maoto\\appdata\\local\\programs\\python\\python310\\lib\\site-packages (from -r requirements.txt (line 47)) (4.22.1)\n",
            "Requirement already satisfied: psutil==5.9.4 in c:\\users\\maoto\\appdata\\local\\programs\\python\\python310\\lib\\site-packages (from -r requirements.txt (line 48)) (5.9.4)\n",
            "Requirement already satisfied: pure-eval==0.2.2 in c:\\users\\maoto\\appdata\\local\\programs\\python\\python310\\lib\\site-packages (from -r requirements.txt (line 49)) (0.2.2)\n",
            "Requirement already satisfied: pyasn1==0.4.8 in c:\\users\\maoto\\appdata\\local\\programs\\python\\python310\\lib\\site-packages (from -r requirements.txt (line 50)) (0.4.8)\n",
            "Requirement already satisfied: pyasn1-modules==0.2.8 in c:\\users\\maoto\\appdata\\local\\programs\\python\\python310\\lib\\site-packages (from -r requirements.txt (line 51)) (0.2.8)\n",
            "Requirement already satisfied: pybboxes==0.1.6 in c:\\users\\maoto\\appdata\\local\\programs\\python\\python310\\lib\\site-packages (from -r requirements.txt (line 52)) (0.1.6)\n",
            "Requirement already satisfied: pydub==0.25.1 in c:\\users\\maoto\\appdata\\local\\programs\\python\\python310\\lib\\site-packages (from -r requirements.txt (line 53)) (0.25.1)\n",
            "Requirement already satisfied: Pygments==2.15.0 in c:\\users\\maoto\\appdata\\local\\programs\\python\\python310\\lib\\site-packages (from -r requirements.txt (line 54)) (2.15.0)\n",
            "Requirement already satisfied: pyparsing==2.4.7 in c:\\users\\maoto\\appdata\\local\\programs\\python\\python310\\lib\\site-packages (from -r requirements.txt (line 55)) (2.4.7)\n",
            "Requirement already satisfied: python-dateutil==2.8.2 in c:\\users\\maoto\\appdata\\local\\programs\\python\\python310\\lib\\site-packages (from -r requirements.txt (line 56)) (2.8.2)\n",
            "Requirement already satisfied: python-dotenv==1.0.0 in c:\\users\\maoto\\appdata\\local\\programs\\python\\python310\\lib\\site-packages (from -r requirements.txt (line 57)) (1.0.0)\n",
            "Requirement already satisfied: pytz==2023.3 in c:\\users\\maoto\\appdata\\local\\programs\\python\\python310\\lib\\site-packages (from -r requirements.txt (line 58)) (2023.3)\n",
            "Requirement already satisfied: PyYAML==6.0 in c:\\users\\maoto\\appdata\\local\\programs\\python\\python310\\lib\\site-packages (from -r requirements.txt (line 59)) (6.0)\n",
            "Requirement already satisfied: requests==2.28.2 in c:\\users\\maoto\\appdata\\local\\programs\\python\\python310\\lib\\site-packages (from -r requirements.txt (line 60)) (2.28.2)\n",
            "Requirement already satisfied: requests-oauthlib==1.3.1 in c:\\users\\maoto\\appdata\\local\\programs\\python\\python310\\lib\\site-packages (from -r requirements.txt (line 61)) (1.3.1)\n",
            "Requirement already satisfied: requests-toolbelt==0.10.1 in c:\\users\\maoto\\appdata\\local\\programs\\python\\python310\\lib\\site-packages (from -r requirements.txt (line 62)) (0.10.1)\n",
            "Requirement already satisfied: roboflow==1.0.3 in c:\\users\\maoto\\appdata\\local\\programs\\python\\python310\\lib\\site-packages (from -r requirements.txt (line 63)) (1.0.3)\n",
            "Requirement already satisfied: rsa==4.9 in c:\\users\\maoto\\appdata\\local\\programs\\python\\python310\\lib\\site-packages (from -r requirements.txt (line 64)) (4.9)\n",
            "Requirement already satisfied: s3transfer==0.6.0 in c:\\users\\maoto\\appdata\\local\\programs\\python\\python310\\lib\\site-packages (from -r requirements.txt (line 65)) (0.6.0)\n",
            "Requirement already satisfied: sahi==0.11.13 in c:\\users\\maoto\\appdata\\local\\programs\\python\\python310\\lib\\site-packages (from -r requirements.txt (line 66)) (0.11.13)\n",
            "Requirement already satisfied: scipy==1.10.1 in c:\\users\\maoto\\appdata\\local\\programs\\python\\python310\\lib\\site-packages (from -r requirements.txt (line 67)) (1.10.1)\n",
            "Requirement already satisfied: seaborn==0.12.2 in c:\\users\\maoto\\appdata\\local\\programs\\python\\python310\\lib\\site-packages (from -r requirements.txt (line 68)) (0.12.2)\n",
            "Requirement already satisfied: shapely==2.0.1 in c:\\users\\maoto\\appdata\\local\\programs\\python\\python310\\lib\\site-packages (from -r requirements.txt (line 69)) (2.0.1)\n",
            "Requirement already satisfied: six==1.16.0 in c:\\users\\maoto\\appdata\\local\\programs\\python\\python310\\lib\\site-packages (from -r requirements.txt (line 70)) (1.16.0)\n",
            "Requirement already satisfied: smmap==5.0.0 in c:\\users\\maoto\\appdata\\local\\programs\\python\\python310\\lib\\site-packages (from -r requirements.txt (line 71)) (5.0.0)\n",
            "Requirement already satisfied: stack-data==0.6.2 in c:\\users\\maoto\\appdata\\local\\programs\\python\\python310\\lib\\site-packages (from -r requirements.txt (line 72)) (0.6.2)\n",
            "Requirement already satisfied: sympy==1.11.1 in c:\\users\\maoto\\appdata\\local\\programs\\python\\python310\\lib\\site-packages (from -r requirements.txt (line 73)) (1.11.1)\n",
            "Requirement already satisfied: tensorboard==2.12.1 in c:\\users\\maoto\\appdata\\local\\programs\\python\\python310\\lib\\site-packages (from -r requirements.txt (line 74)) (2.12.1)\n",
            "Requirement already satisfied: tensorboard-data-server==0.7.0 in c:\\users\\maoto\\appdata\\local\\programs\\python\\python310\\lib\\site-packages (from -r requirements.txt (line 75)) (0.7.0)\n",
            "Requirement already satisfied: tensorboard-plugin-wit==1.8.1 in c:\\users\\maoto\\appdata\\local\\programs\\python\\python310\\lib\\site-packages (from -r requirements.txt (line 76)) (1.8.1)\n",
            "Requirement already satisfied: termcolor==2.2.0 in c:\\users\\maoto\\appdata\\local\\programs\\python\\python310\\lib\\site-packages (from -r requirements.txt (line 77)) (2.2.0)\n",
            "Requirement already satisfied: terminaltables==3.1.10 in c:\\users\\maoto\\appdata\\local\\programs\\python\\python310\\lib\\site-packages (from -r requirements.txt (line 78)) (3.1.10)\n",
            "Requirement already satisfied: thop==0.1.1.post2209072238 in c:\\users\\maoto\\appdata\\local\\programs\\python\\python310\\lib\\site-packages (from -r requirements.txt (line 79)) (0.1.1.post2209072238)\n",
            "Requirement already satisfied: torch==2.0.0 in c:\\users\\maoto\\appdata\\local\\programs\\python\\python310\\lib\\site-packages (from -r requirements.txt (line 80)) (2.0.0)\n",
            "Requirement already satisfied: torchaudio==2.0.1 in c:\\users\\maoto\\appdata\\local\\programs\\python\\python310\\lib\\site-packages (from -r requirements.txt (line 81)) (2.0.1)\n",
            "Requirement already satisfied: torchvision==0.15.1 in c:\\users\\maoto\\appdata\\local\\programs\\python\\python310\\lib\\site-packages (from -r requirements.txt (line 82)) (0.15.1)\n",
            "Requirement already satisfied: tqdm==4.65.0 in c:\\users\\maoto\\appdata\\local\\programs\\python\\python310\\lib\\site-packages (from -r requirements.txt (line 83)) (4.65.0)\n",
            "Requirement already satisfied: traitlets==5.9.0 in c:\\users\\maoto\\appdata\\local\\programs\\python\\python310\\lib\\site-packages (from -r requirements.txt (line 84)) (5.9.0)\n",
            "Requirement already satisfied: typing_extensions==4.5.0 in c:\\users\\maoto\\appdata\\local\\programs\\python\\python310\\lib\\site-packages (from -r requirements.txt (line 85)) (4.5.0)\n",
            "Requirement already satisfied: tzdata==2023.3 in c:\\users\\maoto\\appdata\\local\\programs\\python\\python310\\lib\\site-packages (from -r requirements.txt (line 86)) (2023.3)\n",
            "Requirement already satisfied: urllib3==1.26.15 in c:\\users\\maoto\\appdata\\local\\programs\\python\\python310\\lib\\site-packages (from -r requirements.txt (line 87)) (1.26.15)\n",
            "Requirement already satisfied: wcwidth==0.2.6 in c:\\users\\maoto\\appdata\\local\\programs\\python\\python310\\lib\\site-packages (from -r requirements.txt (line 88)) (0.2.6)\n",
            "Requirement already satisfied: Werkzeug==2.2.3 in c:\\users\\maoto\\appdata\\local\\programs\\python\\python310\\lib\\site-packages (from -r requirements.txt (line 89)) (2.2.3)\n",
            "Requirement already satisfied: wget==3.2 in c:\\users\\maoto\\appdata\\local\\programs\\python\\python310\\lib\\site-packages (from -r requirements.txt (line 90)) (3.2)\n",
            "Requirement already satisfied: yolov5==7.0.11 in c:\\users\\maoto\\appdata\\local\\programs\\python\\python310\\lib\\site-packages (from -r requirements.txt (line 91)) (7.0.11)\n",
            "Requirement already satisfied: setuptools>=41.0.0 in c:\\users\\maoto\\appdata\\local\\programs\\python\\python310\\lib\\site-packages (from tensorboard==2.12.1->-r requirements.txt (line 74)) (70.1.0)\n",
            "Requirement already satisfied: wheel>=0.26 in c:\\users\\maoto\\appdata\\local\\programs\\python\\python310\\lib\\site-packages (from tensorboard==2.12.1->-r requirements.txt (line 74)) (0.41.1)\n"
          ]
        }
      ],
      "source": [
        "!pip install -r requirements.txt\n"
      ]
    },
    {
      "cell_type": "code",
      "execution_count": 4,
      "metadata": {
        "colab": {
          "base_uri": "https://localhost:8080/"
        },
        "id": "6Ch3SLzzuIVw",
        "outputId": "2a4b3205-ad89-4f44-bf74-c1da81a5cc5a"
      },
      "outputs": [],
      "source": [
        "!python silic-ui.py"
      ]
    }
  ],
  "metadata": {
    "accelerator": "GPU",
    "colab": {
      "provenance": []
    },
    "kernelspec": {
      "display_name": "Python 3",
      "language": "python",
      "name": "python3"
    },
    "language_info": {
      "codemirror_mode": {
        "name": "ipython",
        "version": 3
      },
      "file_extension": ".py",
      "mimetype": "text/x-python",
      "name": "python",
      "nbconvert_exporter": "python",
      "pygments_lexer": "ipython3",
      "version": "3.10.11"
    }
  },
  "nbformat": 4,
  "nbformat_minor": 0
}
